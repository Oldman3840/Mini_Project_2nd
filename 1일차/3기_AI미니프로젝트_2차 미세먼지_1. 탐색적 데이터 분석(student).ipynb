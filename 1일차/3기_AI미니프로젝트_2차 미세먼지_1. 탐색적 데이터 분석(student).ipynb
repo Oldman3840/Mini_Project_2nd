{
 "cells": [
  {
   "cell_type": "markdown",
   "id": "boxed-jamaica",
   "metadata": {},
   "source": [
    "**AIVLE School 미니프로젝트**\n",
    "### **공공데이터를 활용한 <span style=\"color:darkgreen\">미세먼지 농도</span> 예측**\n",
    "---"
   ]
  },
  {
   "cell_type": "markdown",
   "id": "967a7044-88a2-4b77-b020-5866c102d33d",
   "metadata": {},
   "source": [
    "#### **<span style=\"color:red\">[미션 안내]</span>**\n",
    "* 개인 미션: 미세먼지 농도를 예측하는 머신러닝 모델을 만드세요. ([2-1]부터 [2-10], [3-1]부터 [3-2] 까지 미션 수행)\n",
    "* 조별 미션: 개인 미션 수행한 내용에 대해 토론하여 발표 준비를 해주세요."
   ]
  },
  {
   "cell_type": "markdown",
   "id": "909025a3-58ec-482b-bdf2-6d828df85761",
   "metadata": {},
   "source": [
    "#### **<span style=\"color:red\">[주피터 노트북 파일 안내]</span>**\n",
    "1. 탐색적 데이터 분석(solution).ipynb: 미션 수행 대상 아님. 제공된 solution을 참고하여 [2-1]부터의 미션 수행을 위한 탐색적 데이터 분석 진행</br>\n",
    "2. 데이터 전처리.ipynb: [2-1]부터 [2-8] 까지 미션 수행 대상</br>\n",
    "3. 모델링(머신러닝).ipynb: [3-1]부터 [3-2] 까지 미션 수행 대상. [4-1]~[4-4]는 선택 사항임</br>"
   ]
  },
  {
   "cell_type": "markdown",
   "id": "a4e61711-04b3-4878-b95e-9115e4299ed1",
   "metadata": {},
   "source": [
    "#### **<span style=\"color:red\">[데이터 설명]</span>**\n",
    "\n",
    "* air_2021.csv : 2021년 미세먼지 데이터\n",
    "* air_2022.csv : 2022년 미세먼지 데이터\n",
    "* weather_2021.csv : 2021년 날씨 데이터\n",
    "* weather_2022.csv : 2022년 날씨 데이터\n",
    "* 학습 데이터: 2021년의 미세먼지 농도 데이터, 테스트 데이터: 2022년의 미세먼지 농도 데이터"
   ]
  },
  {
   "cell_type": "markdown",
   "id": "f2bc4fa5",
   "metadata": {},
   "source": [
    "# [Step 1] 탐색적 데이터 분석"
   ]
  },
  {
   "cell_type": "markdown",
   "id": "d480e6d6-3d32-43f7-94c7-4e0ebf980890",
   "metadata": {},
   "source": [
    "#### **<span style=\"color:blue\">[1-1] 필요한 라이브러리 설치</span>**"
   ]
  },
  {
   "cell_type": "code",
   "execution_count": 26,
   "id": "4c6ced42",
   "metadata": {},
   "outputs": [],
   "source": [
    "# 필요한 라이브러리 설치 및 임포트\n",
    "# %pip install pandas seaborn\n",
    "\n",
    "import pandas as pd\n",
    "import seaborn as sns\n",
    "import matplotlib.pyplot as plt"
   ]
  },
  {
   "cell_type": "markdown",
   "id": "d7d7725c",
   "metadata": {},
   "source": [
    "---"
   ]
  },
  {
   "cell_type": "markdown",
   "id": "5e04ec22-530b-432f-967e-c38a2430aebf",
   "metadata": {},
   "source": [
    "#### **<span style=\"color:blue\">[1-2] 미세먼지 데이터 불러오기</span>**"
   ]
  },
  {
   "cell_type": "markdown",
   "id": "vocational-animal",
   "metadata": {},
   "source": [
    "* Pandas 라이브러리를 활용해서 'air_2021.csv'파일을 'air_21' 변수에, 'air_2022.csv'파일을 'air_22' 변수에 저장하고 그 데이터를 확인하세요.\n",
    "* 구분자(sep) : ','\n",
    "* encoder = 'utf-8'\n",
    "* index_col = 0"
   ]
  },
  {
   "cell_type": "code",
   "execution_count": 12,
   "id": "saving-slope",
   "metadata": {},
   "outputs": [],
   "source": [
    "# 아래에 실습코드를 작성하고 결과를 확인합니다.\n",
    "# 'air_2021.csv'파일을 'air_21' 변수에, 'air_2022.csv'파일을 'air_22' 변수에 저장\n",
    "air_21 = pd.read_csv('air_2021.csv', sep=',', index_col=0, encoding='utf-8')\n",
    "air_22 = pd.read_csv('air_2022.csv', sep=',', index_col=0, encoding='utf-8')\n"
   ]
  },
  {
   "cell_type": "code",
   "execution_count": 13,
   "id": "90307d62",
   "metadata": {},
   "outputs": [
    {
     "data": {
      "text/html": [
       "<div>\n",
       "<style scoped>\n",
       "    .dataframe tbody tr th:only-of-type {\n",
       "        vertical-align: middle;\n",
       "    }\n",
       "\n",
       "    .dataframe tbody tr th {\n",
       "        vertical-align: top;\n",
       "    }\n",
       "\n",
       "    .dataframe thead th {\n",
       "        text-align: right;\n",
       "    }\n",
       "</style>\n",
       "<table border=\"1\" class=\"dataframe\">\n",
       "  <thead>\n",
       "    <tr style=\"text-align: right;\">\n",
       "      <th></th>\n",
       "      <th>지역</th>\n",
       "      <th>망</th>\n",
       "      <th>측정소코드</th>\n",
       "      <th>측정소명</th>\n",
       "      <th>측정일시</th>\n",
       "      <th>SO2</th>\n",
       "      <th>CO</th>\n",
       "      <th>O3</th>\n",
       "      <th>NO2</th>\n",
       "      <th>PM10</th>\n",
       "      <th>PM25</th>\n",
       "      <th>주소</th>\n",
       "    </tr>\n",
       "  </thead>\n",
       "  <tbody>\n",
       "    <tr>\n",
       "      <th>0</th>\n",
       "      <td>서울 종로구</td>\n",
       "      <td>도시대기</td>\n",
       "      <td>111123</td>\n",
       "      <td>종로구</td>\n",
       "      <td>2021100101</td>\n",
       "      <td>0.003</td>\n",
       "      <td>0.6</td>\n",
       "      <td>0.002</td>\n",
       "      <td>0.039</td>\n",
       "      <td>31.0</td>\n",
       "      <td>18.0</td>\n",
       "      <td>서울 종로구 종로35가길 19</td>\n",
       "    </tr>\n",
       "    <tr>\n",
       "      <th>1</th>\n",
       "      <td>서울 종로구</td>\n",
       "      <td>도시대기</td>\n",
       "      <td>111123</td>\n",
       "      <td>종로구</td>\n",
       "      <td>2021100102</td>\n",
       "      <td>0.003</td>\n",
       "      <td>0.6</td>\n",
       "      <td>0.002</td>\n",
       "      <td>0.035</td>\n",
       "      <td>27.0</td>\n",
       "      <td>16.0</td>\n",
       "      <td>서울 종로구 종로35가길 19</td>\n",
       "    </tr>\n",
       "    <tr>\n",
       "      <th>2</th>\n",
       "      <td>서울 종로구</td>\n",
       "      <td>도시대기</td>\n",
       "      <td>111123</td>\n",
       "      <td>종로구</td>\n",
       "      <td>2021100103</td>\n",
       "      <td>0.003</td>\n",
       "      <td>0.6</td>\n",
       "      <td>0.002</td>\n",
       "      <td>0.033</td>\n",
       "      <td>28.0</td>\n",
       "      <td>18.0</td>\n",
       "      <td>서울 종로구 종로35가길 19</td>\n",
       "    </tr>\n",
       "    <tr>\n",
       "      <th>3</th>\n",
       "      <td>서울 종로구</td>\n",
       "      <td>도시대기</td>\n",
       "      <td>111123</td>\n",
       "      <td>종로구</td>\n",
       "      <td>2021100104</td>\n",
       "      <td>0.003</td>\n",
       "      <td>0.6</td>\n",
       "      <td>0.002</td>\n",
       "      <td>0.030</td>\n",
       "      <td>26.0</td>\n",
       "      <td>16.0</td>\n",
       "      <td>서울 종로구 종로35가길 19</td>\n",
       "    </tr>\n",
       "    <tr>\n",
       "      <th>4</th>\n",
       "      <td>서울 종로구</td>\n",
       "      <td>도시대기</td>\n",
       "      <td>111123</td>\n",
       "      <td>종로구</td>\n",
       "      <td>2021100105</td>\n",
       "      <td>0.003</td>\n",
       "      <td>0.5</td>\n",
       "      <td>0.003</td>\n",
       "      <td>0.026</td>\n",
       "      <td>26.0</td>\n",
       "      <td>16.0</td>\n",
       "      <td>서울 종로구 종로35가길 19</td>\n",
       "    </tr>\n",
       "  </tbody>\n",
       "</table>\n",
       "</div>"
      ],
      "text/plain": [
       "       지역     망   측정소코드 측정소명        측정일시    SO2   CO     O3    NO2  PM10  \\\n",
       "0  서울 종로구  도시대기  111123  종로구  2021100101  0.003  0.6  0.002  0.039  31.0   \n",
       "1  서울 종로구  도시대기  111123  종로구  2021100102  0.003  0.6  0.002  0.035  27.0   \n",
       "2  서울 종로구  도시대기  111123  종로구  2021100103  0.003  0.6  0.002  0.033  28.0   \n",
       "3  서울 종로구  도시대기  111123  종로구  2021100104  0.003  0.6  0.002  0.030  26.0   \n",
       "4  서울 종로구  도시대기  111123  종로구  2021100105  0.003  0.5  0.003  0.026  26.0   \n",
       "\n",
       "   PM25                주소  \n",
       "0  18.0  서울 종로구 종로35가길 19  \n",
       "1  16.0  서울 종로구 종로35가길 19  \n",
       "2  18.0  서울 종로구 종로35가길 19  \n",
       "3  16.0  서울 종로구 종로35가길 19  \n",
       "4  16.0  서울 종로구 종로35가길 19  "
      ]
     },
     "execution_count": 13,
     "metadata": {},
     "output_type": "execute_result"
    }
   ],
   "source": [
    "# air_21 데이터의 head 확인\n",
    "air_21.head()\n"
   ]
  },
  {
   "cell_type": "code",
   "execution_count": 14,
   "id": "funny-subcommittee",
   "metadata": {},
   "outputs": [
    {
     "data": {
      "text/plain": [
       "(8760, 12)"
      ]
     },
     "execution_count": 14,
     "metadata": {},
     "output_type": "execute_result"
    }
   ],
   "source": [
    "# air_21 데이터의 shape 확인\n",
    "air_21.shape\n"
   ]
  },
  {
   "cell_type": "code",
   "execution_count": 15,
   "id": "dd66a7d4-108f-4253-99eb-a7e8eedf3d2c",
   "metadata": {},
   "outputs": [
    {
     "data": {
      "text/html": [
       "<div>\n",
       "<style scoped>\n",
       "    .dataframe tbody tr th:only-of-type {\n",
       "        vertical-align: middle;\n",
       "    }\n",
       "\n",
       "    .dataframe tbody tr th {\n",
       "        vertical-align: top;\n",
       "    }\n",
       "\n",
       "    .dataframe thead th {\n",
       "        text-align: right;\n",
       "    }\n",
       "</style>\n",
       "<table border=\"1\" class=\"dataframe\">\n",
       "  <thead>\n",
       "    <tr style=\"text-align: right;\">\n",
       "      <th></th>\n",
       "      <th>지역</th>\n",
       "      <th>망</th>\n",
       "      <th>측정소코드</th>\n",
       "      <th>측정소명</th>\n",
       "      <th>측정일시</th>\n",
       "      <th>SO2</th>\n",
       "      <th>CO</th>\n",
       "      <th>O3</th>\n",
       "      <th>NO2</th>\n",
       "      <th>PM10</th>\n",
       "      <th>PM25</th>\n",
       "      <th>주소</th>\n",
       "    </tr>\n",
       "  </thead>\n",
       "  <tbody>\n",
       "    <tr>\n",
       "      <th>0</th>\n",
       "      <td>서울 종로구</td>\n",
       "      <td>도시대기</td>\n",
       "      <td>111123</td>\n",
       "      <td>종로구</td>\n",
       "      <td>2022010101</td>\n",
       "      <td>0.003</td>\n",
       "      <td>0.4</td>\n",
       "      <td>0.026</td>\n",
       "      <td>0.016</td>\n",
       "      <td>23.0</td>\n",
       "      <td>12.0</td>\n",
       "      <td>서울 종로구 종로35가길 19</td>\n",
       "    </tr>\n",
       "    <tr>\n",
       "      <th>1</th>\n",
       "      <td>서울 종로구</td>\n",
       "      <td>도시대기</td>\n",
       "      <td>111123</td>\n",
       "      <td>종로구</td>\n",
       "      <td>2022010102</td>\n",
       "      <td>0.003</td>\n",
       "      <td>0.4</td>\n",
       "      <td>0.022</td>\n",
       "      <td>0.020</td>\n",
       "      <td>20.0</td>\n",
       "      <td>9.0</td>\n",
       "      <td>서울 종로구 종로35가길 19</td>\n",
       "    </tr>\n",
       "    <tr>\n",
       "      <th>2</th>\n",
       "      <td>서울 종로구</td>\n",
       "      <td>도시대기</td>\n",
       "      <td>111123</td>\n",
       "      <td>종로구</td>\n",
       "      <td>2022010103</td>\n",
       "      <td>0.003</td>\n",
       "      <td>0.5</td>\n",
       "      <td>0.014</td>\n",
       "      <td>0.028</td>\n",
       "      <td>20.0</td>\n",
       "      <td>9.0</td>\n",
       "      <td>서울 종로구 종로35가길 19</td>\n",
       "    </tr>\n",
       "    <tr>\n",
       "      <th>3</th>\n",
       "      <td>서울 종로구</td>\n",
       "      <td>도시대기</td>\n",
       "      <td>111123</td>\n",
       "      <td>종로구</td>\n",
       "      <td>2022010104</td>\n",
       "      <td>0.003</td>\n",
       "      <td>0.5</td>\n",
       "      <td>0.016</td>\n",
       "      <td>0.027</td>\n",
       "      <td>19.0</td>\n",
       "      <td>10.0</td>\n",
       "      <td>서울 종로구 종로35가길 19</td>\n",
       "    </tr>\n",
       "    <tr>\n",
       "      <th>4</th>\n",
       "      <td>서울 종로구</td>\n",
       "      <td>도시대기</td>\n",
       "      <td>111123</td>\n",
       "      <td>종로구</td>\n",
       "      <td>2022010105</td>\n",
       "      <td>0.003</td>\n",
       "      <td>0.5</td>\n",
       "      <td>0.005</td>\n",
       "      <td>0.040</td>\n",
       "      <td>24.0</td>\n",
       "      <td>11.0</td>\n",
       "      <td>서울 종로구 종로35가길 19</td>\n",
       "    </tr>\n",
       "  </tbody>\n",
       "</table>\n",
       "</div>"
      ],
      "text/plain": [
       "       지역     망   측정소코드 측정소명        측정일시    SO2   CO     O3    NO2  PM10  \\\n",
       "0  서울 종로구  도시대기  111123  종로구  2022010101  0.003  0.4  0.026  0.016  23.0   \n",
       "1  서울 종로구  도시대기  111123  종로구  2022010102  0.003  0.4  0.022  0.020  20.0   \n",
       "2  서울 종로구  도시대기  111123  종로구  2022010103  0.003  0.5  0.014  0.028  20.0   \n",
       "3  서울 종로구  도시대기  111123  종로구  2022010104  0.003  0.5  0.016  0.027  19.0   \n",
       "4  서울 종로구  도시대기  111123  종로구  2022010105  0.003  0.5  0.005  0.040  24.0   \n",
       "\n",
       "   PM25                주소  \n",
       "0  12.0  서울 종로구 종로35가길 19  \n",
       "1   9.0  서울 종로구 종로35가길 19  \n",
       "2   9.0  서울 종로구 종로35가길 19  \n",
       "3  10.0  서울 종로구 종로35가길 19  \n",
       "4  11.0  서울 종로구 종로35가길 19  "
      ]
     },
     "execution_count": 15,
     "metadata": {},
     "output_type": "execute_result"
    }
   ],
   "source": [
    "# air_22 데이터의 head 확인\n",
    "air_22.head()\n"
   ]
  },
  {
   "cell_type": "code",
   "execution_count": 16,
   "id": "6d77b925",
   "metadata": {},
   "outputs": [
    {
     "data": {
      "text/plain": [
       "(2160, 12)"
      ]
     },
     "execution_count": 16,
     "metadata": {},
     "output_type": "execute_result"
    }
   ],
   "source": [
    "# air_22 데이터의 shape 확인\n",
    "air_22.shape\n"
   ]
  },
  {
   "cell_type": "markdown",
   "id": "b90ad7aa-f7ba-4d6b-8ed5-1473fd8962fd",
   "metadata": {},
   "source": [
    "---"
   ]
  },
  {
   "cell_type": "markdown",
   "id": "1d5578ce-495d-4a79-9f27-77f4683d8352",
   "metadata": {},
   "source": [
    "#### **<span style=\"color:blue\">[1-3] 날씨 데이터 불러오기</span>**"
   ]
  },
  {
   "cell_type": "markdown",
   "id": "cb0ea254",
   "metadata": {},
   "source": [
    "* Pandas 라이브러리를 활용해서 'weather_2021.csv'파일을 'weather_21' 변수에, 'weather_2022.csv'파일을 'weather_22' 변수에 저장하고 그 데이터를 확인하세요.\n",
    "* 구분자(sep) : ','\n",
    "* encoder = 'cp949'"
   ]
  },
  {
   "cell_type": "code",
   "execution_count": 17,
   "id": "25c17195",
   "metadata": {},
   "outputs": [],
   "source": [
    "#'weather_2021.csv'파일을 'weather_21' 변수에, 'weather_2022.csv'파일을 'weather_22' 변수에 저장\n",
    "weather_21 = pd.read_csv('weather_2021.csv', sep=',', encoding='cp949')\n",
    "weather_22 = pd.read_csv('weather_2022.csv', sep=',', encoding='cp949')\n"
   ]
  },
  {
   "cell_type": "code",
   "execution_count": 20,
   "id": "3b77003b",
   "metadata": {},
   "outputs": [
    {
     "data": {
      "text/html": [
       "<div>\n",
       "<style scoped>\n",
       "    .dataframe tbody tr th:only-of-type {\n",
       "        vertical-align: middle;\n",
       "    }\n",
       "\n",
       "    .dataframe tbody tr th {\n",
       "        vertical-align: top;\n",
       "    }\n",
       "\n",
       "    .dataframe thead th {\n",
       "        text-align: right;\n",
       "    }\n",
       "</style>\n",
       "<table border=\"1\" class=\"dataframe\">\n",
       "  <thead>\n",
       "    <tr style=\"text-align: right;\">\n",
       "      <th></th>\n",
       "      <th>지점</th>\n",
       "      <th>지점명</th>\n",
       "      <th>일시</th>\n",
       "      <th>기온(°C)</th>\n",
       "      <th>기온 QC플래그</th>\n",
       "      <th>강수량(mm)</th>\n",
       "      <th>강수량 QC플래그</th>\n",
       "      <th>풍속(m/s)</th>\n",
       "      <th>풍속 QC플래그</th>\n",
       "      <th>풍향(16방위)</th>\n",
       "      <th>...</th>\n",
       "      <th>최저운고(100m )</th>\n",
       "      <th>시정(10m)</th>\n",
       "      <th>지면상태(지면상태코드)</th>\n",
       "      <th>현상번호(국내식)</th>\n",
       "      <th>지면온도(°C)</th>\n",
       "      <th>지면온도 QC플래그</th>\n",
       "      <th>5cm 지중온도(°C)</th>\n",
       "      <th>10cm 지중온도(°C)</th>\n",
       "      <th>20cm 지중온도(°C)</th>\n",
       "      <th>30cm 지중온도(°C)</th>\n",
       "    </tr>\n",
       "  </thead>\n",
       "  <tbody>\n",
       "    <tr>\n",
       "      <th>0</th>\n",
       "      <td>108</td>\n",
       "      <td>서울</td>\n",
       "      <td>2021-01-01 01:00</td>\n",
       "      <td>-8.7</td>\n",
       "      <td>NaN</td>\n",
       "      <td>NaN</td>\n",
       "      <td>NaN</td>\n",
       "      <td>2.4</td>\n",
       "      <td>NaN</td>\n",
       "      <td>270.0</td>\n",
       "      <td>...</td>\n",
       "      <td>NaN</td>\n",
       "      <td>2000</td>\n",
       "      <td>NaN</td>\n",
       "      <td>NaN</td>\n",
       "      <td>-6.9</td>\n",
       "      <td>NaN</td>\n",
       "      <td>-1.0</td>\n",
       "      <td>-0.8</td>\n",
       "      <td>0.3</td>\n",
       "      <td>1.6</td>\n",
       "    </tr>\n",
       "    <tr>\n",
       "      <th>1</th>\n",
       "      <td>108</td>\n",
       "      <td>서울</td>\n",
       "      <td>2021-01-01 02:00</td>\n",
       "      <td>-9.1</td>\n",
       "      <td>NaN</td>\n",
       "      <td>NaN</td>\n",
       "      <td>NaN</td>\n",
       "      <td>1.6</td>\n",
       "      <td>NaN</td>\n",
       "      <td>270.0</td>\n",
       "      <td>...</td>\n",
       "      <td>NaN</td>\n",
       "      <td>2000</td>\n",
       "      <td>NaN</td>\n",
       "      <td>NaN</td>\n",
       "      <td>-7.1</td>\n",
       "      <td>NaN</td>\n",
       "      <td>-1.1</td>\n",
       "      <td>-0.8</td>\n",
       "      <td>0.3</td>\n",
       "      <td>1.6</td>\n",
       "    </tr>\n",
       "    <tr>\n",
       "      <th>2</th>\n",
       "      <td>108</td>\n",
       "      <td>서울</td>\n",
       "      <td>2021-01-01 03:00</td>\n",
       "      <td>-9.3</td>\n",
       "      <td>NaN</td>\n",
       "      <td>NaN</td>\n",
       "      <td>NaN</td>\n",
       "      <td>1.1</td>\n",
       "      <td>NaN</td>\n",
       "      <td>250.0</td>\n",
       "      <td>...</td>\n",
       "      <td>NaN</td>\n",
       "      <td>2000</td>\n",
       "      <td>NaN</td>\n",
       "      <td>NaN</td>\n",
       "      <td>-7.3</td>\n",
       "      <td>NaN</td>\n",
       "      <td>-1.2</td>\n",
       "      <td>-0.9</td>\n",
       "      <td>0.3</td>\n",
       "      <td>1.6</td>\n",
       "    </tr>\n",
       "    <tr>\n",
       "      <th>3</th>\n",
       "      <td>108</td>\n",
       "      <td>서울</td>\n",
       "      <td>2021-01-01 04:00</td>\n",
       "      <td>-9.3</td>\n",
       "      <td>NaN</td>\n",
       "      <td>NaN</td>\n",
       "      <td>NaN</td>\n",
       "      <td>0.3</td>\n",
       "      <td>NaN</td>\n",
       "      <td>0.0</td>\n",
       "      <td>...</td>\n",
       "      <td>NaN</td>\n",
       "      <td>2000</td>\n",
       "      <td>NaN</td>\n",
       "      <td>NaN</td>\n",
       "      <td>-7.5</td>\n",
       "      <td>NaN</td>\n",
       "      <td>-1.3</td>\n",
       "      <td>-1.0</td>\n",
       "      <td>0.2</td>\n",
       "      <td>1.5</td>\n",
       "    </tr>\n",
       "    <tr>\n",
       "      <th>4</th>\n",
       "      <td>108</td>\n",
       "      <td>서울</td>\n",
       "      <td>2021-01-01 05:00</td>\n",
       "      <td>-9.7</td>\n",
       "      <td>NaN</td>\n",
       "      <td>NaN</td>\n",
       "      <td>NaN</td>\n",
       "      <td>1.9</td>\n",
       "      <td>NaN</td>\n",
       "      <td>20.0</td>\n",
       "      <td>...</td>\n",
       "      <td>NaN</td>\n",
       "      <td>2000</td>\n",
       "      <td>NaN</td>\n",
       "      <td>NaN</td>\n",
       "      <td>-7.6</td>\n",
       "      <td>NaN</td>\n",
       "      <td>-1.3</td>\n",
       "      <td>-1.0</td>\n",
       "      <td>0.2</td>\n",
       "      <td>1.5</td>\n",
       "    </tr>\n",
       "  </tbody>\n",
       "</table>\n",
       "<p>5 rows × 38 columns</p>\n",
       "</div>"
      ],
      "text/plain": [
       "    지점 지점명                일시  기온(°C)  기온 QC플래그  강수량(mm)  강수량 QC플래그  풍속(m/s)  \\\n",
       "0  108  서울  2021-01-01 01:00    -8.7       NaN      NaN        NaN      2.4   \n",
       "1  108  서울  2021-01-01 02:00    -9.1       NaN      NaN        NaN      1.6   \n",
       "2  108  서울  2021-01-01 03:00    -9.3       NaN      NaN        NaN      1.1   \n",
       "3  108  서울  2021-01-01 04:00    -9.3       NaN      NaN        NaN      0.3   \n",
       "4  108  서울  2021-01-01 05:00    -9.7       NaN      NaN        NaN      1.9   \n",
       "\n",
       "   풍속 QC플래그  풍향(16방위)  ...  최저운고(100m )  시정(10m)  지면상태(지면상태코드)  현상번호(국내식)  \\\n",
       "0       NaN     270.0  ...          NaN     2000           NaN        NaN   \n",
       "1       NaN     270.0  ...          NaN     2000           NaN        NaN   \n",
       "2       NaN     250.0  ...          NaN     2000           NaN        NaN   \n",
       "3       NaN       0.0  ...          NaN     2000           NaN        NaN   \n",
       "4       NaN      20.0  ...          NaN     2000           NaN        NaN   \n",
       "\n",
       "   지면온도(°C)  지면온도 QC플래그  5cm 지중온도(°C)  10cm 지중온도(°C)  20cm 지중온도(°C)  \\\n",
       "0      -6.9         NaN          -1.0           -0.8            0.3   \n",
       "1      -7.1         NaN          -1.1           -0.8            0.3   \n",
       "2      -7.3         NaN          -1.2           -0.9            0.3   \n",
       "3      -7.5         NaN          -1.3           -1.0            0.2   \n",
       "4      -7.6         NaN          -1.3           -1.0            0.2   \n",
       "\n",
       "   30cm 지중온도(°C)  \n",
       "0            1.6  \n",
       "1            1.6  \n",
       "2            1.6  \n",
       "3            1.5  \n",
       "4            1.5  \n",
       "\n",
       "[5 rows x 38 columns]"
      ]
     },
     "metadata": {},
     "output_type": "display_data"
    },
    {
     "data": {
      "text/html": [
       "<div>\n",
       "<style scoped>\n",
       "    .dataframe tbody tr th:only-of-type {\n",
       "        vertical-align: middle;\n",
       "    }\n",
       "\n",
       "    .dataframe tbody tr th {\n",
       "        vertical-align: top;\n",
       "    }\n",
       "\n",
       "    .dataframe thead th {\n",
       "        text-align: right;\n",
       "    }\n",
       "</style>\n",
       "<table border=\"1\" class=\"dataframe\">\n",
       "  <thead>\n",
       "    <tr style=\"text-align: right;\">\n",
       "      <th></th>\n",
       "      <th>지점</th>\n",
       "      <th>지점명</th>\n",
       "      <th>일시</th>\n",
       "      <th>기온(°C)</th>\n",
       "      <th>기온 QC플래그</th>\n",
       "      <th>강수량(mm)</th>\n",
       "      <th>강수량 QC플래그</th>\n",
       "      <th>풍속(m/s)</th>\n",
       "      <th>풍속 QC플래그</th>\n",
       "      <th>풍향(16방위)</th>\n",
       "      <th>...</th>\n",
       "      <th>최저운고(100m )</th>\n",
       "      <th>시정(10m)</th>\n",
       "      <th>지면상태(지면상태코드)</th>\n",
       "      <th>현상번호(국내식)</th>\n",
       "      <th>지면온도(°C)</th>\n",
       "      <th>지면온도 QC플래그</th>\n",
       "      <th>5cm 지중온도(°C)</th>\n",
       "      <th>10cm 지중온도(°C)</th>\n",
       "      <th>20cm 지중온도(°C)</th>\n",
       "      <th>30cm 지중온도(°C)</th>\n",
       "    </tr>\n",
       "  </thead>\n",
       "  <tbody>\n",
       "    <tr>\n",
       "      <th>0</th>\n",
       "      <td>108</td>\n",
       "      <td>서울</td>\n",
       "      <td>2022-01-01 00:00</td>\n",
       "      <td>-8.5</td>\n",
       "      <td>NaN</td>\n",
       "      <td>NaN</td>\n",
       "      <td>NaN</td>\n",
       "      <td>1.9</td>\n",
       "      <td>NaN</td>\n",
       "      <td>320</td>\n",
       "      <td>...</td>\n",
       "      <td>NaN</td>\n",
       "      <td>2000</td>\n",
       "      <td>NaN</td>\n",
       "      <td>NaN</td>\n",
       "      <td>-7.0</td>\n",
       "      <td>NaN</td>\n",
       "      <td>-1.0</td>\n",
       "      <td>-1.0</td>\n",
       "      <td>-0.2</td>\n",
       "      <td>1.0</td>\n",
       "    </tr>\n",
       "    <tr>\n",
       "      <th>1</th>\n",
       "      <td>108</td>\n",
       "      <td>서울</td>\n",
       "      <td>2022-01-01 01:00</td>\n",
       "      <td>-9.2</td>\n",
       "      <td>NaN</td>\n",
       "      <td>NaN</td>\n",
       "      <td>NaN</td>\n",
       "      <td>1.8</td>\n",
       "      <td>NaN</td>\n",
       "      <td>270</td>\n",
       "      <td>...</td>\n",
       "      <td>NaN</td>\n",
       "      <td>2000</td>\n",
       "      <td>NaN</td>\n",
       "      <td>NaN</td>\n",
       "      <td>-7.2</td>\n",
       "      <td>NaN</td>\n",
       "      <td>-1.1</td>\n",
       "      <td>-1.1</td>\n",
       "      <td>-0.2</td>\n",
       "      <td>1.0</td>\n",
       "    </tr>\n",
       "    <tr>\n",
       "      <th>2</th>\n",
       "      <td>108</td>\n",
       "      <td>서울</td>\n",
       "      <td>2022-01-01 02:00</td>\n",
       "      <td>-9.5</td>\n",
       "      <td>NaN</td>\n",
       "      <td>NaN</td>\n",
       "      <td>NaN</td>\n",
       "      <td>1.2</td>\n",
       "      <td>NaN</td>\n",
       "      <td>270</td>\n",
       "      <td>...</td>\n",
       "      <td>NaN</td>\n",
       "      <td>2000</td>\n",
       "      <td>NaN</td>\n",
       "      <td>NaN</td>\n",
       "      <td>-7.5</td>\n",
       "      <td>NaN</td>\n",
       "      <td>-1.3</td>\n",
       "      <td>-1.2</td>\n",
       "      <td>-0.2</td>\n",
       "      <td>1.0</td>\n",
       "    </tr>\n",
       "    <tr>\n",
       "      <th>3</th>\n",
       "      <td>108</td>\n",
       "      <td>서울</td>\n",
       "      <td>2022-01-01 03:00</td>\n",
       "      <td>-9.3</td>\n",
       "      <td>NaN</td>\n",
       "      <td>NaN</td>\n",
       "      <td>NaN</td>\n",
       "      <td>1.4</td>\n",
       "      <td>NaN</td>\n",
       "      <td>290</td>\n",
       "      <td>...</td>\n",
       "      <td>NaN</td>\n",
       "      <td>2000</td>\n",
       "      <td>NaN</td>\n",
       "      <td>NaN</td>\n",
       "      <td>-7.6</td>\n",
       "      <td>NaN</td>\n",
       "      <td>-1.4</td>\n",
       "      <td>-1.2</td>\n",
       "      <td>-0.2</td>\n",
       "      <td>1.0</td>\n",
       "    </tr>\n",
       "    <tr>\n",
       "      <th>4</th>\n",
       "      <td>108</td>\n",
       "      <td>서울</td>\n",
       "      <td>2022-01-01 04:00</td>\n",
       "      <td>-9.6</td>\n",
       "      <td>NaN</td>\n",
       "      <td>NaN</td>\n",
       "      <td>NaN</td>\n",
       "      <td>1.7</td>\n",
       "      <td>NaN</td>\n",
       "      <td>340</td>\n",
       "      <td>...</td>\n",
       "      <td>NaN</td>\n",
       "      <td>2000</td>\n",
       "      <td>NaN</td>\n",
       "      <td>NaN</td>\n",
       "      <td>-7.6</td>\n",
       "      <td>NaN</td>\n",
       "      <td>-1.4</td>\n",
       "      <td>-1.3</td>\n",
       "      <td>-0.3</td>\n",
       "      <td>1.0</td>\n",
       "    </tr>\n",
       "  </tbody>\n",
       "</table>\n",
       "<p>5 rows × 38 columns</p>\n",
       "</div>"
      ],
      "text/plain": [
       "    지점 지점명                일시  기온(°C)  기온 QC플래그  강수량(mm)  강수량 QC플래그  풍속(m/s)  \\\n",
       "0  108  서울  2022-01-01 00:00    -8.5       NaN      NaN        NaN      1.9   \n",
       "1  108  서울  2022-01-01 01:00    -9.2       NaN      NaN        NaN      1.8   \n",
       "2  108  서울  2022-01-01 02:00    -9.5       NaN      NaN        NaN      1.2   \n",
       "3  108  서울  2022-01-01 03:00    -9.3       NaN      NaN        NaN      1.4   \n",
       "4  108  서울  2022-01-01 04:00    -9.6       NaN      NaN        NaN      1.7   \n",
       "\n",
       "   풍속 QC플래그  풍향(16방위)  ...  최저운고(100m )  시정(10m)  지면상태(지면상태코드)  현상번호(국내식)  \\\n",
       "0       NaN       320  ...          NaN     2000           NaN        NaN   \n",
       "1       NaN       270  ...          NaN     2000           NaN        NaN   \n",
       "2       NaN       270  ...          NaN     2000           NaN        NaN   \n",
       "3       NaN       290  ...          NaN     2000           NaN        NaN   \n",
       "4       NaN       340  ...          NaN     2000           NaN        NaN   \n",
       "\n",
       "   지면온도(°C)  지면온도 QC플래그  5cm 지중온도(°C)  10cm 지중온도(°C)  20cm 지중온도(°C)  \\\n",
       "0      -7.0         NaN          -1.0           -1.0           -0.2   \n",
       "1      -7.2         NaN          -1.1           -1.1           -0.2   \n",
       "2      -7.5         NaN          -1.3           -1.2           -0.2   \n",
       "3      -7.6         NaN          -1.4           -1.2           -0.2   \n",
       "4      -7.6         NaN          -1.4           -1.3           -0.3   \n",
       "\n",
       "   30cm 지중온도(°C)  \n",
       "0            1.0  \n",
       "1            1.0  \n",
       "2            1.0  \n",
       "3            1.0  \n",
       "4            1.0  \n",
       "\n",
       "[5 rows x 38 columns]"
      ]
     },
     "metadata": {},
     "output_type": "display_data"
    },
    {
     "data": {
      "text/plain": [
       "((8759, 38), (2160, 38))"
      ]
     },
     "execution_count": 20,
     "metadata": {},
     "output_type": "execute_result"
    }
   ],
   "source": [
    "# 미세먼지 데이터와 같이 날씨 데이터의 head, shape 등을 확인\n",
    "display(weather_21.head())\n",
    "display(weather_22.head())\n",
    "\n",
    "weather_21.shape, weather_22.shape\n"
   ]
  },
  {
   "cell_type": "markdown",
   "id": "5a366021-a8ae-41f3-b199-9eb81c6145d7",
   "metadata": {},
   "source": [
    "---"
   ]
  },
  {
   "cell_type": "markdown",
   "id": "2d695c0c-7081-4964-a970-0ee7196e0c71",
   "metadata": {},
   "source": [
    "#### **<span style=\"color:blue\">[1-4] 데이터 변수 확인</span>**"
   ]
  },
  {
   "cell_type": "code",
   "execution_count": 21,
   "id": "demographic-battery",
   "metadata": {},
   "outputs": [
    {
     "name": "stdout",
     "output_type": "stream",
     "text": [
      "<class 'pandas.core.frame.DataFrame'>\n",
      "Int64Index: 8760 entries, 0 to 8759\n",
      "Data columns (total 12 columns):\n",
      " #   Column  Non-Null Count  Dtype  \n",
      "---  ------  --------------  -----  \n",
      " 0   지역      8760 non-null   object \n",
      " 1   망       8760 non-null   object \n",
      " 2   측정소코드   8760 non-null   int64  \n",
      " 3   측정소명    8760 non-null   object \n",
      " 4   측정일시    8760 non-null   int64  \n",
      " 5   SO2     8648 non-null   float64\n",
      " 6   CO      8680 non-null   float64\n",
      " 7   O3      8663 non-null   float64\n",
      " 8   NO2     8680 non-null   float64\n",
      " 9   PM10    8655 non-null   float64\n",
      " 10  PM25    8663 non-null   float64\n",
      " 11  주소      8760 non-null   object \n",
      "dtypes: float64(6), int64(2), object(4)\n",
      "memory usage: 889.7+ KB\n"
     ]
    }
   ],
   "source": [
    "# 각 데이터프레임의 info 확인\n",
    "air_21.info()\n"
   ]
  },
  {
   "cell_type": "code",
   "execution_count": 22,
   "id": "4549f106",
   "metadata": {},
   "outputs": [
    {
     "name": "stdout",
     "output_type": "stream",
     "text": [
      "<class 'pandas.core.frame.DataFrame'>\n",
      "Int64Index: 2160 entries, 0 to 2159\n",
      "Data columns (total 12 columns):\n",
      " #   Column  Non-Null Count  Dtype  \n",
      "---  ------  --------------  -----  \n",
      " 0   지역      2160 non-null   object \n",
      " 1   망       2160 non-null   object \n",
      " 2   측정소코드   2160 non-null   int64  \n",
      " 3   측정소명    2160 non-null   object \n",
      " 4   측정일시    2160 non-null   int64  \n",
      " 5   SO2     2139 non-null   float64\n",
      " 6   CO      2139 non-null   float64\n",
      " 7   O3      2139 non-null   float64\n",
      " 8   NO2     2139 non-null   float64\n",
      " 9   PM10    2122 non-null   float64\n",
      " 10  PM25    2135 non-null   float64\n",
      " 11  주소      2160 non-null   object \n",
      "dtypes: float64(6), int64(2), object(4)\n",
      "memory usage: 219.4+ KB\n"
     ]
    }
   ],
   "source": [
    "air_22.info()"
   ]
  },
  {
   "cell_type": "code",
   "execution_count": 23,
   "id": "f190f464",
   "metadata": {},
   "outputs": [
    {
     "name": "stdout",
     "output_type": "stream",
     "text": [
      "<class 'pandas.core.frame.DataFrame'>\n",
      "RangeIndex: 8759 entries, 0 to 8758\n",
      "Data columns (total 38 columns):\n",
      " #   Column         Non-Null Count  Dtype  \n",
      "---  ------         --------------  -----  \n",
      " 0   지점             8759 non-null   int64  \n",
      " 1   지점명            8759 non-null   object \n",
      " 2   일시             8759 non-null   object \n",
      " 3   기온(°C)         8759 non-null   float64\n",
      " 4   기온 QC플래그       0 non-null      float64\n",
      " 5   강수량(mm)        949 non-null    float64\n",
      " 6   강수량 QC플래그      1763 non-null   float64\n",
      " 7   풍속(m/s)        8757 non-null   float64\n",
      " 8   풍속 QC플래그       2 non-null      float64\n",
      " 9   풍향(16방위)       8757 non-null   float64\n",
      " 10  풍향 QC플래그       2 non-null      float64\n",
      " 11  습도(%)          8759 non-null   int64  \n",
      " 12  습도 QC플래그       0 non-null      float64\n",
      " 13  증기압(hPa)       8759 non-null   float64\n",
      " 14  이슬점온도(°C)      8759 non-null   float64\n",
      " 15  현지기압(hPa)      8759 non-null   float64\n",
      " 16  현지기압 QC플래그     0 non-null      float64\n",
      " 17  해면기압(hPa)      8759 non-null   float64\n",
      " 18  해면기압 QC플래그     0 non-null      float64\n",
      " 19  일조(hr)         4791 non-null   float64\n",
      " 20  일조 QC플래그       3968 non-null   float64\n",
      " 21  일사(MJ/m2)      4791 non-null   float64\n",
      " 22  일사 QC플래그       3968 non-null   float64\n",
      " 23  적설(cm)         379 non-null    float64\n",
      " 24  3시간신적설(cm)     29 non-null     float64\n",
      " 25  전운량(10분위)      8757 non-null   float64\n",
      " 26  중하층운량(10분위)    8759 non-null   int64  \n",
      " 27  운형(운형약어)       4947 non-null   object \n",
      " 28  최저운고(100m )    4547 non-null   float64\n",
      " 29  시정(10m)        8759 non-null   int64  \n",
      " 30  지면상태(지면상태코드)   0 non-null      float64\n",
      " 31  현상번호(국내식)      2125 non-null   float64\n",
      " 32  지면온도(°C)       8754 non-null   float64\n",
      " 33  지면온도 QC플래그     24 non-null     float64\n",
      " 34  5cm 지중온도(°C)   8754 non-null   float64\n",
      " 35  10cm 지중온도(°C)  8754 non-null   float64\n",
      " 36  20cm 지중온도(°C)  8754 non-null   float64\n",
      " 37  30cm 지중온도(°C)  8754 non-null   float64\n",
      "dtypes: float64(31), int64(4), object(3)\n",
      "memory usage: 2.5+ MB\n"
     ]
    }
   ],
   "source": [
    "weather_21.info()"
   ]
  },
  {
   "cell_type": "code",
   "execution_count": 24,
   "id": "1ac7dc2f",
   "metadata": {},
   "outputs": [
    {
     "name": "stdout",
     "output_type": "stream",
     "text": [
      "<class 'pandas.core.frame.DataFrame'>\n",
      "RangeIndex: 2160 entries, 0 to 2159\n",
      "Data columns (total 38 columns):\n",
      " #   Column         Non-Null Count  Dtype  \n",
      "---  ------         --------------  -----  \n",
      " 0   지점             2160 non-null   int64  \n",
      " 1   지점명            2160 non-null   object \n",
      " 2   일시             2160 non-null   object \n",
      " 3   기온(°C)         2160 non-null   float64\n",
      " 4   기온 QC플래그       0 non-null      float64\n",
      " 5   강수량(mm)        81 non-null     float64\n",
      " 6   강수량 QC플래그      382 non-null    float64\n",
      " 7   풍속(m/s)        2160 non-null   float64\n",
      " 8   풍속 QC플래그       0 non-null      float64\n",
      " 9   풍향(16방위)       2160 non-null   int64  \n",
      " 10  풍향 QC플래그       0 non-null      float64\n",
      " 11  습도(%)          2160 non-null   int64  \n",
      " 12  습도 QC플래그       0 non-null      float64\n",
      " 13  증기압(hPa)       2160 non-null   float64\n",
      " 14  이슬점온도(°C)      2160 non-null   float64\n",
      " 15  현지기압(hPa)      2160 non-null   float64\n",
      " 16  현지기압 QC플래그     0 non-null      float64\n",
      " 17  해면기압(hPa)      2160 non-null   float64\n",
      " 18  해면기압 QC플래그     0 non-null      float64\n",
      " 19  일조(hr)         1071 non-null   float64\n",
      " 20  일조 QC플래그       1089 non-null   float64\n",
      " 21  일사(MJ/m2)      1071 non-null   float64\n",
      " 22  일사 QC플래그       1089 non-null   float64\n",
      " 23  적설(cm)         140 non-null    float64\n",
      " 24  3시간신적설(cm)     15 non-null     float64\n",
      " 25  전운량(10분위)      2160 non-null   int64  \n",
      " 26  중하층운량(10분위)    2160 non-null   int64  \n",
      " 27  운형(운형약어)       939 non-null    object \n",
      " 28  최저운고(100m )    743 non-null    float64\n",
      " 29  시정(10m)        2160 non-null   int64  \n",
      " 30  지면상태(지면상태코드)   0 non-null      float64\n",
      " 31  현상번호(국내식)      418 non-null    float64\n",
      " 32  지면온도(°C)       2160 non-null   float64\n",
      " 33  지면온도 QC플래그     7 non-null      float64\n",
      " 34  5cm 지중온도(°C)   2160 non-null   float64\n",
      " 35  10cm 지중온도(°C)  2160 non-null   float64\n",
      " 36  20cm 지중온도(°C)  2160 non-null   float64\n",
      " 37  30cm 지중온도(°C)  2160 non-null   float64\n",
      "dtypes: float64(29), int64(6), object(3)\n",
      "memory usage: 641.4+ KB\n"
     ]
    }
   ],
   "source": [
    "weather_22.info()"
   ]
  },
  {
   "cell_type": "code",
   "execution_count": null,
   "id": "940a114a",
   "metadata": {},
   "outputs": [],
   "source": [
    "# 아래에 필요한 코드를 작성하고 결과를 확인합니다.\n",
    "\n"
   ]
  },
  {
   "cell_type": "code",
   "execution_count": null,
   "id": "76019dd9",
   "metadata": {},
   "outputs": [],
   "source": [
    "# 아래에 필요한 코드를 작성하고 결과를 확인합니다.\n",
    "\n"
   ]
  },
  {
   "cell_type": "markdown",
   "id": "602b8bae",
   "metadata": {
    "tags": []
   },
   "source": [
    "---"
   ]
  },
  {
   "cell_type": "markdown",
   "id": "189b5049-ccf9-41f1-a6cd-6d749332451d",
   "metadata": {},
   "source": [
    "#### **<span style=\"color:blue\">[1-5] 미세먼지 데이터 분석</span>**"
   ]
  },
  {
   "cell_type": "markdown",
   "id": "southeast-integration",
   "metadata": {},
   "source": [
    "* 데이터 전처리와 모델링을 위해 데이터 분석을 진행해보세요. 시각화 등을 통해 관측치들의 패턴 탐색, 잘못된 자료 탐색, 변수들간의 관계 파악을 할 수 있습니다."
   ]
  },
  {
   "cell_type": "code",
   "execution_count": 25,
   "id": "194ae01d",
   "metadata": {},
   "outputs": [],
   "source": [
    "# 시각화 한글폰트 설정 (아래 코드를 실행하세요)\n",
    "\n",
    "plt.rc('font', family='Malgun Gothic')\n",
    "sns.set(font=\"Malgun Gothic\",#\"NanumGothicCoding\", \n",
    "        rc={\"axes.unicode_minus\":False}, # 마이너스 부호 깨짐 현상 해결\n",
    "        style='darkgrid')"
   ]
  },
  {
   "cell_type": "code",
   "execution_count": 39,
   "id": "2a610ade",
   "metadata": {},
   "outputs": [
    {
     "data": {
      "image/png": "[encoded data removed]",
      "text/plain": [
       "<Figure size 800x300 with 1 Axes>"
      ]
     },
     "metadata": {},
     "output_type": "display_data"
    }
   ],
   "source": [
    "# air_21,air_22 의 다양한 변수에 대하여 시각화\n",
    "plt.figure(figsize=(8,3))\n",
    "plt.subplot(211)\n",
    "plt.plot(air_21['측정일시'], air_21['PM10'], label='PM10')\n",
    "plt.plot(air_21['측정일시'], air_21['PM25'], label='PM25')\n",
    "plt.legend()\n",
    "plt.show()"
   ]
  },
  {
   "cell_type": "code",
   "execution_count": 45,
   "id": "b0bc6ec5",
   "metadata": {},
   "outputs": [
    {
     "data": {
      "image/png": "[encoded data removed]",
      "text/plain": [
       "<Figure size 800x300 with 2 Axes>"
      ]
     },
     "metadata": {},
     "output_type": "display_data"
    }
   ],
   "source": [
    "# air_21,air_22 의 다양한 변수에 대하여 시각화\n",
    "plt.figure(figsize=(8,3))\n",
    "plt.subplot(121)\n",
    "plt.plot(air_21['측정일시'], air_21['PM10'], label='PM10')\n",
    "plt.plot(air_21['측정일시'], air_21['PM25'], label='PM25')\n",
    "plt.legend()\n",
    "plt.subplot(122)\n",
    "plt.plot(air_22['측정일시'], air_22['PM10'], label='PM10')\n",
    "plt.plot(air_22['측정일시'], air_22['PM25'], label='PM25')\n",
    "plt.legend()\n",
    "\n",
    "plt.tight_layout()\n",
    "plt.show()"
   ]
  },
  {
   "cell_type": "code",
   "execution_count": 38,
   "id": "f295f8db",
   "metadata": {},
   "outputs": [
    {
     "data": {
      "text/plain": [
       "지역      망     측정소코드   측정소명  측정일시        SO2    CO   O3     NO2    PM10  PM25  주소              \n",
       "서울 종로구  도시대기  111123  종로구   2021010101  0.002  0.5  0.022  0.016  24.0  14.0  서울 종로구 종로35가길 19    1\n",
       "                            2021083124  0.003  0.4  0.028  0.012  4.0   4.0   서울 종로구 종로35가길 19    1\n",
       "                            2021090114  0.003  0.4  0.038  0.010  3.0   1.0   서울 종로구 종로35가길 19    1\n",
       "                            2021090113  0.003  0.4  0.037  0.011  3.0   1.0   서울 종로구 종로35가길 19    1\n",
       "                            2021090112  0.003  0.4  0.035  0.013  3.0   1.0   서울 종로구 종로35가길 19    1\n",
       "                                                                                                 ..\n",
       "                            2021050124  0.004  0.3  0.043  0.008  3.0   3.0   서울 종로구 종로35가길 19    1\n",
       "                            2021050123  0.004  0.4  0.037  0.008  9.0   5.0   서울 종로구 종로35가길 19    1\n",
       "                            2021050122  0.003  0.4  0.036  0.009  11.0  7.0   서울 종로구 종로35가길 19    1\n",
       "                            2021050121  0.003  0.4  0.035  0.010  12.0  7.0   서울 종로구 종로35가길 19    1\n",
       "                            2021123124  0.003  0.4  0.026  0.016  20.0  9.0   서울 종로구 종로35가길 19    1\n",
       "Length: 8602, dtype: int64"
      ]
     },
     "execution_count": 38,
     "metadata": {},
     "output_type": "execute_result"
    }
   ],
   "source": [
    "# 아래에 필요한 코드를 작성하고 결과를 확인합니다.\n",
    "\n",
    "air_21.value_counts()\n"
   ]
  },
  {
   "cell_type": "code",
   "execution_count": null,
   "id": "86892a60",
   "metadata": {},
   "outputs": [],
   "source": [
    "# 시각화를 통해 알게된 사실을 정리해봅니다.\n",
    "# 1. 측정일시를 groupby 해야한다\n",
    "# 2. 지역, 망, 측정소코드, 주소는 동일하므로 삭제해도 된다\n",
    "# 3. SO2, CO, O3, NO2, PM10, PM25 모두 결측치가 존재한다"
   ]
  },
  {
   "cell_type": "markdown",
   "id": "5b94a5fa-3b40-404b-a3ba-f04ffa855aa3",
   "metadata": {
    "tags": []
   },
   "source": [
    "---"
   ]
  },
  {
   "cell_type": "markdown",
   "id": "61945726-a2f9-4abc-965b-eedb0d5b492b",
   "metadata": {},
   "source": [
    "#### **<span style=\"color:blue\">[1-6] 날씨 데이터 분석</span>**"
   ]
  },
  {
   "cell_type": "code",
   "execution_count": 46,
   "id": "eb26af58",
   "metadata": {},
   "outputs": [
    {
     "ename": "KeyboardInterrupt",
     "evalue": "",
     "output_type": "error",
     "traceback": [
      "\u001b[1;31m---------------------------------------------------------------------------\u001b[0m",
      "\u001b[1;31mKeyboardInterrupt\u001b[0m                         Traceback (most recent call last)",
      "Cell \u001b[1;32mIn[46], line 6\u001b[0m\n\u001b[0;32m      4\u001b[0m \u001b[39m# plt.plot(weather_21['일시'], weather_21['PM25'], label='PM25')\u001b[39;00m\n\u001b[0;32m      5\u001b[0m plt\u001b[39m.\u001b[39mlegend()\n\u001b[1;32m----> 6\u001b[0m plt\u001b[39m.\u001b[39;49mshow()\n",
      "File \u001b[1;32mc:\\Users\\User\\anaconda3\\envs\\ex_data\\lib\\site-packages\\matplotlib\\pyplot.py:421\u001b[0m, in \u001b[0;36mshow\u001b[1;34m(*args, **kwargs)\u001b[0m\n\u001b[0;32m    377\u001b[0m \u001b[39m\u001b[39m\u001b[39m\"\"\"\u001b[39;00m\n\u001b[0;32m    378\u001b[0m \u001b[39mDisplay all open figures.\u001b[39;00m\n\u001b[0;32m    379\u001b[0m \n\u001b[1;32m   (...)\u001b[0m\n\u001b[0;32m    418\u001b[0m \u001b[39mexplicitly there.\u001b[39;00m\n\u001b[0;32m    419\u001b[0m \u001b[39m\"\"\"\u001b[39;00m\n\u001b[0;32m    420\u001b[0m _warn_if_gui_out_of_main_thread()\n\u001b[1;32m--> 421\u001b[0m \u001b[39mreturn\u001b[39;00m _get_backend_mod()\u001b[39m.\u001b[39mshow(\u001b[39m*\u001b[39margs, \u001b[39m*\u001b[39m\u001b[39m*\u001b[39mkwargs)\n",
      "File \u001b[1;32m~\\AppData\\Roaming\\Python\\Python310\\site-packages\\matplotlib_inline\\backend_inline.py:90\u001b[0m, in \u001b[0;36mshow\u001b[1;34m(close, block)\u001b[0m\n\u001b[0;32m     88\u001b[0m \u001b[39mtry\u001b[39;00m:\n\u001b[0;32m     89\u001b[0m     \u001b[39mfor\u001b[39;00m figure_manager \u001b[39min\u001b[39;00m Gcf\u001b[39m.\u001b[39mget_all_fig_managers():\n\u001b[1;32m---> 90\u001b[0m         display(\n\u001b[0;32m     91\u001b[0m             figure_manager\u001b[39m.\u001b[39;49mcanvas\u001b[39m.\u001b[39;49mfigure,\n\u001b[0;32m     92\u001b[0m             metadata\u001b[39m=\u001b[39;49m_fetch_figure_metadata(figure_manager\u001b[39m.\u001b[39;49mcanvas\u001b[39m.\u001b[39;49mfigure)\n\u001b[0;32m     93\u001b[0m         )\n\u001b[0;32m     94\u001b[0m \u001b[39mfinally\u001b[39;00m:\n\u001b[0;32m     95\u001b[0m     show\u001b[39m.\u001b[39m_to_draw \u001b[39m=\u001b[39m []\n",
      "File \u001b[1;32m~\\AppData\\Roaming\\Python\\Python310\\site-packages\\IPython\\core\\display_functions.py:298\u001b[0m, in \u001b[0;36mdisplay\u001b[1;34m(include, exclude, metadata, transient, display_id, raw, clear, *objs, **kwargs)\u001b[0m\n\u001b[0;32m    296\u001b[0m     publish_display_data(data\u001b[39m=\u001b[39mobj, metadata\u001b[39m=\u001b[39mmetadata, \u001b[39m*\u001b[39m\u001b[39m*\u001b[39mkwargs)\n\u001b[0;32m    297\u001b[0m \u001b[39melse\u001b[39;00m:\n\u001b[1;32m--> 298\u001b[0m     format_dict, md_dict \u001b[39m=\u001b[39m \u001b[39mformat\u001b[39;49m(obj, include\u001b[39m=\u001b[39;49minclude, exclude\u001b[39m=\u001b[39;49mexclude)\n\u001b[0;32m    299\u001b[0m     \u001b[39mif\u001b[39;00m \u001b[39mnot\u001b[39;00m format_dict:\n\u001b[0;32m    300\u001b[0m         \u001b[39m# nothing to display (e.g. _ipython_display_ took over)\u001b[39;00m\n\u001b[0;32m    301\u001b[0m         \u001b[39mcontinue\u001b[39;00m\n",
      "File \u001b[1;32m~\\AppData\\Roaming\\Python\\Python310\\site-packages\\IPython\\core\\formatters.py:177\u001b[0m, in \u001b[0;36mDisplayFormatter.format\u001b[1;34m(self, obj, include, exclude)\u001b[0m\n\u001b[0;32m    175\u001b[0m md \u001b[39m=\u001b[39m \u001b[39mNone\u001b[39;00m\n\u001b[0;32m    176\u001b[0m \u001b[39mtry\u001b[39;00m:\n\u001b[1;32m--> 177\u001b[0m     data \u001b[39m=\u001b[39m formatter(obj)\n\u001b[0;32m    178\u001b[0m \u001b[39mexcept\u001b[39;00m:\n\u001b[0;32m    179\u001b[0m     \u001b[39m# FIXME: log the exception\u001b[39;00m\n\u001b[0;32m    180\u001b[0m     \u001b[39mraise\u001b[39;00m\n",
      "File \u001b[1;32m~\\AppData\\Roaming\\Python\\Python310\\site-packages\\decorator.py:232\u001b[0m, in \u001b[0;36mdecorate.<locals>.fun\u001b[1;34m(*args, **kw)\u001b[0m\n\u001b[0;32m    230\u001b[0m \u001b[39mif\u001b[39;00m \u001b[39mnot\u001b[39;00m kwsyntax:\n\u001b[0;32m    231\u001b[0m     args, kw \u001b[39m=\u001b[39m fix(args, kw, sig)\n\u001b[1;32m--> 232\u001b[0m \u001b[39mreturn\u001b[39;00m caller(func, \u001b[39m*\u001b[39m(extras \u001b[39m+\u001b[39m args), \u001b[39m*\u001b[39m\u001b[39m*\u001b[39mkw)\n",
      "File \u001b[1;32m~\\AppData\\Roaming\\Python\\Python310\\site-packages\\IPython\\core\\formatters.py:221\u001b[0m, in \u001b[0;36mcatch_format_error\u001b[1;34m(method, self, *args, **kwargs)\u001b[0m\n\u001b[0;32m    219\u001b[0m \u001b[39m\u001b[39m\u001b[39m\"\"\"show traceback on failed format call\"\"\"\u001b[39;00m\n\u001b[0;32m    220\u001b[0m \u001b[39mtry\u001b[39;00m:\n\u001b[1;32m--> 221\u001b[0m     r \u001b[39m=\u001b[39m method(\u001b[39mself\u001b[39m, \u001b[39m*\u001b[39margs, \u001b[39m*\u001b[39m\u001b[39m*\u001b[39mkwargs)\n\u001b[0;32m    222\u001b[0m \u001b[39mexcept\u001b[39;00m \u001b[39mNotImplementedError\u001b[39;00m:\n\u001b[0;32m    223\u001b[0m     \u001b[39m# don't warn on NotImplementedErrors\u001b[39;00m\n\u001b[0;32m    224\u001b[0m     \u001b[39mreturn\u001b[39;00m \u001b[39mself\u001b[39m\u001b[39m.\u001b[39m_check_return(\u001b[39mNone\u001b[39;00m, args[\u001b[39m0\u001b[39m])\n",
      "File \u001b[1;32m~\\AppData\\Roaming\\Python\\Python310\\site-packages\\IPython\\core\\formatters.py:338\u001b[0m, in \u001b[0;36mBaseFormatter.__call__\u001b[1;34m(self, obj)\u001b[0m\n\u001b[0;32m    336\u001b[0m     \u001b[39mpass\u001b[39;00m\n\u001b[0;32m    337\u001b[0m \u001b[39melse\u001b[39;00m:\n\u001b[1;32m--> 338\u001b[0m     \u001b[39mreturn\u001b[39;00m printer(obj)\n\u001b[0;32m    339\u001b[0m \u001b[39m# Finally look for special method names\u001b[39;00m\n\u001b[0;32m    340\u001b[0m method \u001b[39m=\u001b[39m get_real_method(obj, \u001b[39mself\u001b[39m\u001b[39m.\u001b[39mprint_method)\n",
      "File \u001b[1;32m~\\AppData\\Roaming\\Python\\Python310\\site-packages\\IPython\\core\\pylabtools.py:152\u001b[0m, in \u001b[0;36mprint_figure\u001b[1;34m(fig, fmt, bbox_inches, base64, **kwargs)\u001b[0m\n\u001b[0;32m    149\u001b[0m     \u001b[39mfrom\u001b[39;00m \u001b[39mmatplotlib\u001b[39;00m\u001b[39m.\u001b[39;00m\u001b[39mbackend_bases\u001b[39;00m \u001b[39mimport\u001b[39;00m FigureCanvasBase\n\u001b[0;32m    150\u001b[0m     FigureCanvasBase(fig)\n\u001b[1;32m--> 152\u001b[0m fig\u001b[39m.\u001b[39mcanvas\u001b[39m.\u001b[39mprint_figure(bytes_io, \u001b[39m*\u001b[39m\u001b[39m*\u001b[39mkw)\n\u001b[0;32m    153\u001b[0m data \u001b[39m=\u001b[39m bytes_io\u001b[39m.\u001b[39mgetvalue()\n\u001b[0;32m    154\u001b[0m \u001b[39mif\u001b[39;00m fmt \u001b[39m==\u001b[39m \u001b[39m'\u001b[39m\u001b[39msvg\u001b[39m\u001b[39m'\u001b[39m:\n",
      "File \u001b[1;32mc:\\Users\\User\\anaconda3\\envs\\ex_data\\lib\\site-packages\\matplotlib\\backend_bases.py:2318\u001b[0m, in \u001b[0;36mFigureCanvasBase.print_figure\u001b[1;34m(self, filename, dpi, facecolor, edgecolor, orientation, format, bbox_inches, pad_inches, bbox_extra_artists, backend, **kwargs)\u001b[0m\n\u001b[0;32m   2316\u001b[0m \u001b[39mif\u001b[39;00m bbox_inches:\n\u001b[0;32m   2317\u001b[0m     \u001b[39mif\u001b[39;00m bbox_inches \u001b[39m==\u001b[39m \u001b[39m\"\u001b[39m\u001b[39mtight\u001b[39m\u001b[39m\"\u001b[39m:\n\u001b[1;32m-> 2318\u001b[0m         bbox_inches \u001b[39m=\u001b[39m \u001b[39mself\u001b[39;49m\u001b[39m.\u001b[39;49mfigure\u001b[39m.\u001b[39;49mget_tightbbox(\n\u001b[0;32m   2319\u001b[0m             renderer, bbox_extra_artists\u001b[39m=\u001b[39;49mbbox_extra_artists)\n\u001b[0;32m   2320\u001b[0m         \u001b[39mif\u001b[39;00m pad_inches \u001b[39mis\u001b[39;00m \u001b[39mNone\u001b[39;00m:\n\u001b[0;32m   2321\u001b[0m             pad_inches \u001b[39m=\u001b[39m rcParams[\u001b[39m'\u001b[39m\u001b[39msavefig.pad_inches\u001b[39m\u001b[39m'\u001b[39m]\n",
      "File \u001b[1;32mc:\\Users\\User\\anaconda3\\envs\\ex_data\\lib\\site-packages\\matplotlib\\figure.py:1734\u001b[0m, in \u001b[0;36mFigureBase.get_tightbbox\u001b[1;34m(self, renderer, bbox_extra_artists)\u001b[0m\n\u001b[0;32m   1731\u001b[0m     artists \u001b[39m=\u001b[39m bbox_extra_artists\n\u001b[0;32m   1733\u001b[0m \u001b[39mfor\u001b[39;00m a \u001b[39min\u001b[39;00m artists:\n\u001b[1;32m-> 1734\u001b[0m     bbox \u001b[39m=\u001b[39m a\u001b[39m.\u001b[39;49mget_tightbbox(renderer)\n\u001b[0;32m   1735\u001b[0m     \u001b[39mif\u001b[39;00m bbox \u001b[39mis\u001b[39;00m \u001b[39mnot\u001b[39;00m \u001b[39mNone\u001b[39;00m:\n\u001b[0;32m   1736\u001b[0m         bb\u001b[39m.\u001b[39mappend(bbox)\n",
      "File \u001b[1;32mc:\\Users\\User\\anaconda3\\envs\\ex_data\\lib\\site-packages\\matplotlib\\axes\\_base.py:4431\u001b[0m, in \u001b[0;36m_AxesBase.get_tightbbox\u001b[1;34m(self, renderer, call_axes_locator, bbox_extra_artists, for_layout_only)\u001b[0m\n\u001b[0;32m   4429\u001b[0m         \u001b[39mif\u001b[39;00m ba:\n\u001b[0;32m   4430\u001b[0m             bb\u001b[39m.\u001b[39mappend(ba)\n\u001b[1;32m-> 4431\u001b[0m \u001b[39mself\u001b[39;49m\u001b[39m.\u001b[39;49m_update_title_position(renderer)\n\u001b[0;32m   4432\u001b[0m axbbox \u001b[39m=\u001b[39m \u001b[39mself\u001b[39m\u001b[39m.\u001b[39mget_window_extent(renderer)\n\u001b[0;32m   4433\u001b[0m bb\u001b[39m.\u001b[39mappend(axbbox)\n",
      "File \u001b[1;32mc:\\Users\\User\\anaconda3\\envs\\ex_data\\lib\\site-packages\\matplotlib\\axes\\_base.py:3006\u001b[0m, in \u001b[0;36m_AxesBase._update_title_position\u001b[1;34m(self, renderer)\u001b[0m\n\u001b[0;32m   3003\u001b[0m bb \u001b[39m=\u001b[39m \u001b[39mNone\u001b[39;00m\n\u001b[0;32m   3004\u001b[0m \u001b[39mif\u001b[39;00m (ax\u001b[39m.\u001b[39mxaxis\u001b[39m.\u001b[39mget_ticks_position() \u001b[39min\u001b[39;00m [\u001b[39m'\u001b[39m\u001b[39mtop\u001b[39m\u001b[39m'\u001b[39m, \u001b[39m'\u001b[39m\u001b[39munknown\u001b[39m\u001b[39m'\u001b[39m]\n\u001b[0;32m   3005\u001b[0m         \u001b[39mor\u001b[39;00m ax\u001b[39m.\u001b[39mxaxis\u001b[39m.\u001b[39mget_label_position() \u001b[39m==\u001b[39m \u001b[39m'\u001b[39m\u001b[39mtop\u001b[39m\u001b[39m'\u001b[39m):\n\u001b[1;32m-> 3006\u001b[0m     bb \u001b[39m=\u001b[39m ax\u001b[39m.\u001b[39;49mxaxis\u001b[39m.\u001b[39;49mget_tightbbox(renderer)\n\u001b[0;32m   3007\u001b[0m \u001b[39mif\u001b[39;00m bb \u001b[39mis\u001b[39;00m \u001b[39mNone\u001b[39;00m:\n\u001b[0;32m   3008\u001b[0m     \u001b[39mif\u001b[39;00m \u001b[39m'\u001b[39m\u001b[39moutline\u001b[39m\u001b[39m'\u001b[39m \u001b[39min\u001b[39;00m ax\u001b[39m.\u001b[39mspines:\n\u001b[0;32m   3009\u001b[0m         \u001b[39m# Special case for colorbars:\u001b[39;00m\n",
      "File \u001b[1;32mc:\\Users\\User\\anaconda3\\envs\\ex_data\\lib\\site-packages\\matplotlib\\axis.py:1253\u001b[0m, in \u001b[0;36mAxis.get_tightbbox\u001b[1;34m(self, renderer, for_layout_only)\u001b[0m\n\u001b[0;32m   1250\u001b[0m     renderer \u001b[39m=\u001b[39m \u001b[39mself\u001b[39m\u001b[39m.\u001b[39mfigure\u001b[39m.\u001b[39m_get_renderer()\n\u001b[0;32m   1251\u001b[0m ticks_to_draw \u001b[39m=\u001b[39m \u001b[39mself\u001b[39m\u001b[39m.\u001b[39m_update_ticks()\n\u001b[1;32m-> 1253\u001b[0m \u001b[39mself\u001b[39;49m\u001b[39m.\u001b[39;49m_update_label_position(renderer)\n\u001b[0;32m   1255\u001b[0m \u001b[39m# go back to just this axis's tick labels\u001b[39;00m\n\u001b[0;32m   1256\u001b[0m tlb1, tlb2 \u001b[39m=\u001b[39m \u001b[39mself\u001b[39m\u001b[39m.\u001b[39m_get_ticklabel_bboxes(ticks_to_draw, renderer)\n",
      "File \u001b[1;32mc:\\Users\\User\\anaconda3\\envs\\ex_data\\lib\\site-packages\\matplotlib\\axis.py:2252\u001b[0m, in \u001b[0;36mXAxis._update_label_position\u001b[1;34m(self, renderer)\u001b[0m\n\u001b[0;32m   2248\u001b[0m     \u001b[39mreturn\u001b[39;00m\n\u001b[0;32m   2250\u001b[0m \u001b[39m# get bounding boxes for this axis and any siblings\u001b[39;00m\n\u001b[0;32m   2251\u001b[0m \u001b[39m# that have been set by `fig.align_xlabels()`\u001b[39;00m\n\u001b[1;32m-> 2252\u001b[0m bboxes, bboxes2 \u001b[39m=\u001b[39m \u001b[39mself\u001b[39;49m\u001b[39m.\u001b[39;49m_get_tick_boxes_siblings(renderer\u001b[39m=\u001b[39;49mrenderer)\n\u001b[0;32m   2254\u001b[0m x, y \u001b[39m=\u001b[39m \u001b[39mself\u001b[39m\u001b[39m.\u001b[39mlabel\u001b[39m.\u001b[39mget_position()\n\u001b[0;32m   2255\u001b[0m \u001b[39mif\u001b[39;00m \u001b[39mself\u001b[39m\u001b[39m.\u001b[39mlabel_position \u001b[39m==\u001b[39m \u001b[39m'\u001b[39m\u001b[39mbottom\u001b[39m\u001b[39m'\u001b[39m:\n",
      "File \u001b[1;32mc:\\Users\\User\\anaconda3\\envs\\ex_data\\lib\\site-packages\\matplotlib\\axis.py:2056\u001b[0m, in \u001b[0;36mAxis._get_tick_boxes_siblings\u001b[1;34m(self, renderer)\u001b[0m\n\u001b[0;32m   2054\u001b[0m axis \u001b[39m=\u001b[39m \u001b[39mgetattr\u001b[39m(ax, \u001b[39mf\u001b[39m\u001b[39m\"\u001b[39m\u001b[39m{\u001b[39;00maxis_name\u001b[39m}\u001b[39;00m\u001b[39maxis\u001b[39m\u001b[39m\"\u001b[39m)\n\u001b[0;32m   2055\u001b[0m ticks_to_draw \u001b[39m=\u001b[39m axis\u001b[39m.\u001b[39m_update_ticks()\n\u001b[1;32m-> 2056\u001b[0m tlb, tlb2 \u001b[39m=\u001b[39m axis\u001b[39m.\u001b[39;49m_get_ticklabel_bboxes(ticks_to_draw, renderer)\n\u001b[0;32m   2057\u001b[0m bboxes\u001b[39m.\u001b[39mextend(tlb)\n\u001b[0;32m   2058\u001b[0m bboxes2\u001b[39m.\u001b[39mextend(tlb2)\n",
      "File \u001b[1;32mc:\\Users\\User\\anaconda3\\envs\\ex_data\\lib\\site-packages\\matplotlib\\axis.py:1232\u001b[0m, in \u001b[0;36mAxis._get_ticklabel_bboxes\u001b[1;34m(self, ticks, renderer)\u001b[0m\n\u001b[0;32m   1230\u001b[0m \u001b[39mif\u001b[39;00m renderer \u001b[39mis\u001b[39;00m \u001b[39mNone\u001b[39;00m:\n\u001b[0;32m   1231\u001b[0m     renderer \u001b[39m=\u001b[39m \u001b[39mself\u001b[39m\u001b[39m.\u001b[39mfigure\u001b[39m.\u001b[39m_get_renderer()\n\u001b[1;32m-> 1232\u001b[0m \u001b[39mreturn\u001b[39;00m ([tick\u001b[39m.\u001b[39mlabel1\u001b[39m.\u001b[39mget_window_extent(renderer)\n\u001b[0;32m   1233\u001b[0m          \u001b[39mfor\u001b[39;00m tick \u001b[39min\u001b[39;00m ticks \u001b[39mif\u001b[39;00m tick\u001b[39m.\u001b[39mlabel1\u001b[39m.\u001b[39mget_visible()],\n\u001b[0;32m   1234\u001b[0m         [tick\u001b[39m.\u001b[39mlabel2\u001b[39m.\u001b[39mget_window_extent(renderer)\n\u001b[0;32m   1235\u001b[0m          \u001b[39mfor\u001b[39;00m tick \u001b[39min\u001b[39;00m ticks \u001b[39mif\u001b[39;00m tick\u001b[39m.\u001b[39mlabel2\u001b[39m.\u001b[39mget_visible()])\n",
      "File \u001b[1;32mc:\\Users\\User\\anaconda3\\envs\\ex_data\\lib\\site-packages\\matplotlib\\axis.py:1232\u001b[0m, in \u001b[0;36m<listcomp>\u001b[1;34m(.0)\u001b[0m\n\u001b[0;32m   1230\u001b[0m \u001b[39mif\u001b[39;00m renderer \u001b[39mis\u001b[39;00m \u001b[39mNone\u001b[39;00m:\n\u001b[0;32m   1231\u001b[0m     renderer \u001b[39m=\u001b[39m \u001b[39mself\u001b[39m\u001b[39m.\u001b[39mfigure\u001b[39m.\u001b[39m_get_renderer()\n\u001b[1;32m-> 1232\u001b[0m \u001b[39mreturn\u001b[39;00m ([tick\u001b[39m.\u001b[39;49mlabel1\u001b[39m.\u001b[39;49mget_window_extent(renderer)\n\u001b[0;32m   1233\u001b[0m          \u001b[39mfor\u001b[39;00m tick \u001b[39min\u001b[39;00m ticks \u001b[39mif\u001b[39;00m tick\u001b[39m.\u001b[39mlabel1\u001b[39m.\u001b[39mget_visible()],\n\u001b[0;32m   1234\u001b[0m         [tick\u001b[39m.\u001b[39mlabel2\u001b[39m.\u001b[39mget_window_extent(renderer)\n\u001b[0;32m   1235\u001b[0m          \u001b[39mfor\u001b[39;00m tick \u001b[39min\u001b[39;00m ticks \u001b[39mif\u001b[39;00m tick\u001b[39m.\u001b[39mlabel2\u001b[39m.\u001b[39mget_visible()])\n",
      "File \u001b[1;32mc:\\Users\\User\\anaconda3\\envs\\ex_data\\lib\\site-packages\\matplotlib\\text.py:915\u001b[0m, in \u001b[0;36mText.get_window_extent\u001b[1;34m(self, renderer, dpi)\u001b[0m\n\u001b[0;32m    910\u001b[0m     \u001b[39mraise\u001b[39;00m \u001b[39mRuntimeError\u001b[39;00m(\n\u001b[0;32m    911\u001b[0m         \u001b[39m\"\u001b[39m\u001b[39mCannot get window extent of text w/o renderer. You likely \u001b[39m\u001b[39m\"\u001b[39m\n\u001b[0;32m    912\u001b[0m         \u001b[39m\"\u001b[39m\u001b[39mwant to call \u001b[39m\u001b[39m'\u001b[39m\u001b[39mfigure.draw_without_rendering()\u001b[39m\u001b[39m'\u001b[39m\u001b[39m first.\u001b[39m\u001b[39m\"\u001b[39m)\n\u001b[0;32m    914\u001b[0m \u001b[39mwith\u001b[39;00m cbook\u001b[39m.\u001b[39m_setattr_cm(\u001b[39mself\u001b[39m\u001b[39m.\u001b[39mfigure, dpi\u001b[39m=\u001b[39mdpi):\n\u001b[1;32m--> 915\u001b[0m     bbox, info, descent \u001b[39m=\u001b[39m \u001b[39mself\u001b[39;49m\u001b[39m.\u001b[39;49m_get_layout(\u001b[39mself\u001b[39;49m\u001b[39m.\u001b[39;49m_renderer)\n\u001b[0;32m    916\u001b[0m     x, y \u001b[39m=\u001b[39m \u001b[39mself\u001b[39m\u001b[39m.\u001b[39mget_unitless_position()\n\u001b[0;32m    917\u001b[0m     x, y \u001b[39m=\u001b[39m \u001b[39mself\u001b[39m\u001b[39m.\u001b[39mget_transform()\u001b[39m.\u001b[39mtransform((x, y))\n",
      "File \u001b[1;32mc:\\Users\\User\\anaconda3\\envs\\ex_data\\lib\\site-packages\\matplotlib\\text.py:321\u001b[0m, in \u001b[0;36mText._get_layout\u001b[1;34m(self, renderer)\u001b[0m\n\u001b[0;32m    319\u001b[0m clean_line, ismath \u001b[39m=\u001b[39m \u001b[39mself\u001b[39m\u001b[39m.\u001b[39m_preprocess_math(line)\n\u001b[0;32m    320\u001b[0m \u001b[39mif\u001b[39;00m clean_line:\n\u001b[1;32m--> 321\u001b[0m     w, h, d \u001b[39m=\u001b[39m _get_text_metrics_with_cache(\n\u001b[0;32m    322\u001b[0m         renderer, clean_line, \u001b[39mself\u001b[39;49m\u001b[39m.\u001b[39;49m_fontproperties,\n\u001b[0;32m    323\u001b[0m         ismath\u001b[39m=\u001b[39;49mismath, dpi\u001b[39m=\u001b[39;49m\u001b[39mself\u001b[39;49m\u001b[39m.\u001b[39;49mfigure\u001b[39m.\u001b[39;49mdpi)\n\u001b[0;32m    324\u001b[0m \u001b[39melse\u001b[39;00m:\n\u001b[0;32m    325\u001b[0m     w \u001b[39m=\u001b[39m h \u001b[39m=\u001b[39m d \u001b[39m=\u001b[39m \u001b[39m0\u001b[39m\n",
      "File \u001b[1;32mc:\\Users\\User\\anaconda3\\envs\\ex_data\\lib\\site-packages\\matplotlib\\text.py:97\u001b[0m, in \u001b[0;36m_get_text_metrics_with_cache\u001b[1;34m(renderer, text, fontprop, ismath, dpi)\u001b[0m\n\u001b[0;32m     94\u001b[0m \u001b[39m\u001b[39m\u001b[39m\"\"\"Call ``renderer.get_text_width_height_descent``, caching the results.\"\"\"\u001b[39;00m\n\u001b[0;32m     95\u001b[0m \u001b[39m# Cached based on a copy of fontprop so that later in-place mutations of\u001b[39;00m\n\u001b[0;32m     96\u001b[0m \u001b[39m# the passed-in argument do not mess up the cache.\u001b[39;00m\n\u001b[1;32m---> 97\u001b[0m \u001b[39mreturn\u001b[39;00m _get_text_metrics_with_cache_impl(\n\u001b[0;32m     98\u001b[0m     weakref\u001b[39m.\u001b[39;49mref(renderer), text, fontprop\u001b[39m.\u001b[39;49mcopy(), ismath, dpi)\n",
      "File \u001b[1;32mc:\\Users\\User\\anaconda3\\envs\\ex_data\\lib\\site-packages\\matplotlib\\text.py:105\u001b[0m, in \u001b[0;36m_get_text_metrics_with_cache_impl\u001b[1;34m(renderer_ref, text, fontprop, ismath, dpi)\u001b[0m\n\u001b[0;32m    101\u001b[0m \u001b[39m@functools\u001b[39m\u001b[39m.\u001b[39mlru_cache(\u001b[39m4096\u001b[39m)\n\u001b[0;32m    102\u001b[0m \u001b[39mdef\u001b[39;00m \u001b[39m_get_text_metrics_with_cache_impl\u001b[39m(\n\u001b[0;32m    103\u001b[0m         renderer_ref, text, fontprop, ismath, dpi):\n\u001b[0;32m    104\u001b[0m     \u001b[39m# dpi is unused, but participates in cache invalidation (via the renderer).\u001b[39;00m\n\u001b[1;32m--> 105\u001b[0m     \u001b[39mreturn\u001b[39;00m renderer_ref()\u001b[39m.\u001b[39;49mget_text_width_height_descent(text, fontprop, ismath)\n",
      "File \u001b[1;32mc:\\Users\\User\\anaconda3\\envs\\ex_data\\lib\\site-packages\\matplotlib\\backends\\backend_agg.py:239\u001b[0m, in \u001b[0;36mRendererAgg.get_text_width_height_descent\u001b[1;34m(self, s, prop, ismath)\u001b[0m\n\u001b[0;32m    236\u001b[0m     \u001b[39mreturn\u001b[39;00m width, height, descent\n\u001b[0;32m    238\u001b[0m font \u001b[39m=\u001b[39m \u001b[39mself\u001b[39m\u001b[39m.\u001b[39m_prepare_font(prop)\n\u001b[1;32m--> 239\u001b[0m font\u001b[39m.\u001b[39;49mset_text(s, \u001b[39m0.0\u001b[39;49m, flags\u001b[39m=\u001b[39;49mget_hinting_flag())\n\u001b[0;32m    240\u001b[0m w, h \u001b[39m=\u001b[39m font\u001b[39m.\u001b[39mget_width_height()  \u001b[39m# width and height of unrotated string\u001b[39;00m\n\u001b[0;32m    241\u001b[0m d \u001b[39m=\u001b[39m font\u001b[39m.\u001b[39mget_descent()\n",
      "\u001b[1;31mKeyboardInterrupt\u001b[0m: "
     ]
    }
   ],
   "source": [
    "# weather_21,weather_22 의 다양한 변수에 대하여 시각화\n",
    "plt.figure(figsize=(4,3))\n",
    "plt.plot(weather_21['일시'], weather_21['일사(MJ/m2)'], label='일사(MJ/m2)')\n",
    "# plt.plot(weather_21['일시'], weather_21['PM25'], label='PM25')\n",
    "plt.legend()\n",
    "plt.show()\n",
    "\n",
    "\n"
   ]
  },
  {
   "cell_type": "code",
   "execution_count": 47,
   "id": "bcb00292",
   "metadata": {},
   "outputs": [
    {
     "data": {
      "text/plain": [
       "Series([], dtype: int64)"
      ]
     },
     "execution_count": 47,
     "metadata": {},
     "output_type": "execute_result"
    }
   ],
   "source": [
    "# 아래에 필요한 코드를 작성하고 결과를 확인합니다.\n",
    "weather_21.value_counts()\n",
    "\n",
    "\n"
   ]
  },
  {
   "cell_type": "code",
   "execution_count": 48,
   "id": "6be4bb4b",
   "metadata": {},
   "outputs": [
    {
     "data": {
      "text/plain": [
       "Series([], dtype: int64)"
      ]
     },
     "execution_count": 48,
     "metadata": {},
     "output_type": "execute_result"
    }
   ],
   "source": [
    "# 아래에 필요한 코드를 작성하고 결과를 확인합니다.\n",
    "weather_22.value_counts()\n",
    "\n",
    "\n"
   ]
  },
  {
   "cell_type": "code",
   "execution_count": null,
   "id": "88c96dab",
   "metadata": {},
   "outputs": [],
   "source": [
    "# 시각화를 통해 알게된 사실을 정리해봅니다.\n",
    "# 1. \n",
    "# 2.\n",
    "# 3."
   ]
  }
 ],
 "metadata": {
  "kernelspec": {
   "display_name": "ex_data",
   "language": "python",
   "name": "ex_data"
  },
  "language_info": {
   "codemirror_mode": {
    "name": "ipython",
    "version": 3
   },
   "file_extension": ".py",
   "mimetype": "text/x-python",
   "name": "python",
   "nbconvert_exporter": "python",
   "pygments_lexer": "ipython3",
   "version": "3.10.9"
  },
  "vscode": {
   "interpreter": {
    "hash": "f08154012ddadd8e950e6e9e035c7a7b32c136e7647e9b7c77e02eb723a8bedb"
   }
  }
 },
 "nbformat": 4,
 "nbformat_minor": 5
}
